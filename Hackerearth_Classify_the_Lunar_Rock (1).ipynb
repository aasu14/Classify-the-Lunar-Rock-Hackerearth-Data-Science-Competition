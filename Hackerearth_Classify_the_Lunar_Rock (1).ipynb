{
  "nbformat": 4,
  "nbformat_minor": 0,
  "metadata": {
    "kernelspec": {
      "language": "python",
      "display_name": "Python 3",
      "name": "python3"
    },
    "language_info": {
      "pygments_lexer": "ipython3",
      "nbconvert_exporter": "python",
      "version": "3.6.4",
      "file_extension": ".py",
      "codemirror_mode": {
        "name": "ipython",
        "version": 3
      },
      "name": "python",
      "mimetype": "text/x-python"
    },
    "colab": {
      "name": "Hackerearth_Classify the Lunar Rock.ipynb",
      "provenance": [],
      "collapsed_sections": []
    }
  },
  "cells": [
    {
      "cell_type": "code",
      "metadata": {
        "id": "CC1yMfBAJO-m",
        "colab_type": "code",
        "colab": {}
      },
      "source": [
        "# This Python 3 environment comes with many helpful analytics libraries installed\n",
        "# It is defined by the kaggle/python docker image: https://github.com/kaggle/docker-python\n",
        "# For example, here's several helpful packages to load in \n",
        "\n",
        "import numpy as np # linear algebra\n",
        "import pandas as pd # data processing, CSV file I/O (e.g. pd.read_csv)\n",
        "\n",
        "# Input data files are available in the \"../input/\" directory.\n",
        "# For example, running this (by clicking run or pressing Shift+Enter) will list all files under the input directory\n",
        "\n",
        "import os\n",
        "for dirname, _, filenames in os.walk('/kaggle/input'):\n",
        "    for filename in filenames:\n",
        "        print(os.path.join(dirname, filename))\n",
        "\n",
        "# Any results you write to the current directory are saved as output."
      ],
      "execution_count": 0,
      "outputs": []
    },
    {
      "cell_type": "code",
      "metadata": {
        "trusted": true,
        "id": "Fwx9bvd0Iai6",
        "colab_type": "code",
        "colab": {}
      },
      "source": [
        "path= '/kaggle/input/DataSet/'\n",
        "k= '/kaggle/input/DataSet/train.csv'\n",
        "p ='/kaggle/input/DataSet/test.csv'"
      ],
      "execution_count": 0,
      "outputs": []
    },
    {
      "cell_type": "code",
      "metadata": {
        "trusted": true,
        "id": "VtFji3GwIai_",
        "colab_type": "code",
        "colab": {}
      },
      "source": [
        "train=pd.read_csv(k)\n",
        "test=pd.read_csv(p)"
      ],
      "execution_count": 0,
      "outputs": []
    },
    {
      "cell_type": "code",
      "metadata": {
        "trusted": true,
        "id": "dLBA6vlIIajD",
        "colab_type": "code",
        "colab": {},
        "outputId": "e98bcc10-0395-44af-9d9b-c9deda326c1a"
      },
      "source": [
        "train.head()"
      ],
      "execution_count": 0,
      "outputs": [
        {
          "output_type": "execute_result",
          "data": {
            "text/plain": [
              "       Image_File  Class\n",
              "0   clean2416.png  Large\n",
              "1  ground4022.png  Small\n",
              "2  ground0340.png  Small\n",
              "3  ground2110.png  Small\n",
              "4   clean1581.png  Large"
            ],
            "text/html": [
              "<div>\n",
              "<style scoped>\n",
              "    .dataframe tbody tr th:only-of-type {\n",
              "        vertical-align: middle;\n",
              "    }\n",
              "\n",
              "    .dataframe tbody tr th {\n",
              "        vertical-align: top;\n",
              "    }\n",
              "\n",
              "    .dataframe thead th {\n",
              "        text-align: right;\n",
              "    }\n",
              "</style>\n",
              "<table border=\"1\" class=\"dataframe\">\n",
              "  <thead>\n",
              "    <tr style=\"text-align: right;\">\n",
              "      <th></th>\n",
              "      <th>Image_File</th>\n",
              "      <th>Class</th>\n",
              "    </tr>\n",
              "  </thead>\n",
              "  <tbody>\n",
              "    <tr>\n",
              "      <td>0</td>\n",
              "      <td>clean2416.png</td>\n",
              "      <td>Large</td>\n",
              "    </tr>\n",
              "    <tr>\n",
              "      <td>1</td>\n",
              "      <td>ground4022.png</td>\n",
              "      <td>Small</td>\n",
              "    </tr>\n",
              "    <tr>\n",
              "      <td>2</td>\n",
              "      <td>ground0340.png</td>\n",
              "      <td>Small</td>\n",
              "    </tr>\n",
              "    <tr>\n",
              "      <td>3</td>\n",
              "      <td>ground2110.png</td>\n",
              "      <td>Small</td>\n",
              "    </tr>\n",
              "    <tr>\n",
              "      <td>4</td>\n",
              "      <td>clean1581.png</td>\n",
              "      <td>Large</td>\n",
              "    </tr>\n",
              "  </tbody>\n",
              "</table>\n",
              "</div>"
            ]
          },
          "metadata": {
            "tags": []
          },
          "execution_count": 5
        }
      ]
    },
    {
      "cell_type": "code",
      "metadata": {
        "trusted": true,
        "id": "3tDc2P1OIajG",
        "colab_type": "code",
        "colab": {}
      },
      "source": [
        "import numpy as np \n",
        "import pandas as pd\n",
        "import seaborn as sns\n",
        "import matplotlib.pyplot as plt\n",
        "import os\n",
        "import cv2\n",
        "import glob"
      ],
      "execution_count": 0,
      "outputs": []
    },
    {
      "cell_type": "code",
      "metadata": {
        "trusted": true,
        "id": "fKKS0SoMIajJ",
        "colab_type": "code",
        "colab": {}
      },
      "source": [
        "from pathlib import Path\n",
        "from fastai import *\n",
        "from fastai.vision import *\n",
        "import torch\n",
        "from fastai.callbacks.hooks import *"
      ],
      "execution_count": 0,
      "outputs": []
    },
    {
      "cell_type": "code",
      "metadata": {
        "trusted": true,
        "id": "r9xoNVQQIajN",
        "colab_type": "code",
        "colab": {},
        "outputId": "32c9a831-028c-4c68-e2f3-fa938018a5fc"
      },
      "source": [
        "!pwd"
      ],
      "execution_count": 0,
      "outputs": [
        {
          "output_type": "stream",
          "text": [
            "/kaggle/working\r\n"
          ],
          "name": "stdout"
        }
      ]
    },
    {
      "cell_type": "code",
      "metadata": {
        "trusted": true,
        "id": "six1S9U8IajQ",
        "colab_type": "code",
        "colab": {}
      },
      "source": [
        "path ='/kaggle/input/DataSet/Train Images/'\n",
        "tfms = get_transforms(flip_vert=False,max_zoom=1.0,max_warp=0,do_flip=False,xtra_tfms=[cutout()])\n",
        "data = (ImageList.from_csv(path, csv_name = '../train.csv')\n",
        "        .split_by_rand_pct()              \n",
        "        .label_from_df()            \n",
        "        .add_test_folder(test_folder = 'Test Images')              \n",
        "        .transform(tfms, size=400)\n",
        "        .databunch(num_workers=0,bs=8))"
      ],
      "execution_count": 0,
      "outputs": []
    },
    {
      "cell_type": "code",
      "metadata": {
        "trusted": true,
        "id": "CGfvAwTgIajS",
        "colab_type": "code",
        "colab": {},
        "outputId": "b9e0a325-a519-413d-c1a1-7046c215fa5a"
      },
      "source": [
        "\n",
        "## to see the images in train with there labels\n",
        "data.show_batch(rows=3, figsize=(8,10))"
      ],
      "execution_count": 0,
      "outputs": [
        {
          "output_type": "display_data",
          "data": {
            "text/plain": [
              "<Figure size 576x720 with 9 Axes>"
            ],
            "image/png": "[encoded data removed]"
          },
          "metadata": {
            "tags": [],
            "needs_background": "light"
          }
        }
      ]
    },
    {
      "cell_type": "code",
      "metadata": {
        "trusted": true,
        "id": "hq1EO82qIajV",
        "colab_type": "code",
        "colab": {},
        "outputId": "b92842a2-5685-4892-98be-76de0ed508c0"
      },
      "source": [
        "## print the target classes\n",
        "print(data.classes)"
      ],
      "execution_count": 0,
      "outputs": [
        {
          "output_type": "stream",
          "text": [
            "['Large', 'Small']\n"
          ],
          "name": "stdout"
        }
      ]
    },
    {
      "cell_type": "code",
      "metadata": {
        "trusted": true,
        "id": "dvjaDlT0IajZ",
        "colab_type": "code",
        "colab": {},
        "outputId": "e13c22de-6c60-42dc-f958-f6d63353cb9b"
      },
      "source": [
        "## load the pretrained imagenet model\n",
        "## you can try other models from this link\n",
        "## https://docs.fast.ai/vision.models.html\n",
        "learn = cnn_learner(data, models.densenet161, metrics=[error_rate, accuracy], model_dir=\"/tmp/model/\")"
      ],
      "execution_count": 0,
      "outputs": [
        {
          "output_type": "stream",
          "text": [
            "Downloading: \"https://download.pytorch.org/models/densenet161-8d451a50.pth\" to /tmp/.cache/torch/checkpoints/densenet161-8d451a50.pth\n",
            "100%|██████████| 110M/110M [00:01<00:00, 68.2MB/s] \n"
          ],
          "name": "stderr"
        }
      ]
    },
    {
      "cell_type": "code",
      "metadata": {
        "trusted": true,
        "id": "MN36I4EiIajc",
        "colab_type": "code",
        "colab": {}
      },
      "source": [
        "from fastai import *\n",
        "from fastai.vision import *\n",
        "from sklearn.model_selection import StratifiedKFold\n",
        "from pathlib import Path\n",
        "import shutil\n",
        "from sklearn.metrics import f1_score, confusion_matrix\n",
        "\n",
        "np.random.seed(1786)\n",
        "ROOT = \"/tmp/data2\""
      ],
      "execution_count": 0,
      "outputs": []
    },
    {
      "cell_type": "code",
      "metadata": {
        "trusted": true,
        "id": "uvbWR5LxIajf",
        "colab_type": "code",
        "colab": {}
      },
      "source": [
        "def read_data(root):\n",
        "    train_df = pd.read_csv(k)\n",
        "    test_df = pd.read_csv(p)\n",
        "    return train_df, test_df"
      ],
      "execution_count": 0,
      "outputs": []
    },
    {
      "cell_type": "code",
      "metadata": {
        "trusted": true,
        "id": "aRxENSWGIajh",
        "colab_type": "code",
        "colab": {}
      },
      "source": [
        "class SaveBestModel(Recorder):\n",
        "    def __init__(self, learn,name='best_model'):\n",
        "        super().__init__(learn)\n",
        "        self.name = name\n",
        "        self.best_loss = None\n",
        "        self.best_acc = None\n",
        "        self.save_method = self.save_when_acc\n",
        "        \n",
        "    def save_when_acc(self, metrics):        \n",
        "        loss, acc = metrics[0], metrics[1]\n",
        "        if (self.best_acc is None) or (acc > self.best_acc) or (loss < self.best_loss):\n",
        "            self.best_acc = acc\n",
        "            self.best_loss = loss\n",
        "            self.learn.save(f'{self.name}')\n",
        "            print(\"Save the best acc {:.5f}\".format(self.best_acc))\n",
        "        elif acc == self.best_acc and  loss < self.best_loss:\n",
        "            self.best_loss = loss\n",
        "            self.learn.save(f'{self.name}')\n",
        "            print(\"Acc is eq,Save the lower loss {:.5f}\".format(self.best_loss))\n",
        "            \n",
        "    def on_epoch_end(self,last_metrics=MetricsList,**kwargs:Any):\n",
        "        self.save_method(last_metrics)\n"
      ],
      "execution_count": 0,
      "outputs": []
    },
    {
      "cell_type": "code",
      "metadata": {
        "id": "NFd84356IkzP",
        "colab_type": "code",
        "colab": {}
      },
      "source": [
        "#Path(ROOT).mkdir(exist_ok=True, parents=True)\n",
        "src1 = \"/kaggle/input/DataSet/\"\n",
        "shutil.copytree(src1, ROOT)\n",
        "\n",
        "\n",
        "if __name__==\"__main__\":\n",
        "    train_df, test_df = read_data(ROOT)\n",
        "    print(train_df.shape, test_df.shape)\n",
        "    \n",
        "    cvlist = list(StratifiedKFold(8, random_state=12345786).split(train_df, train_df.Class))\n",
        "    \n",
        "    tfms1 = get_transforms(max_zoom=1.5)\n",
        "    test_preds_all = []\n",
        "    val_preds_all = []\n",
        "    for i in range(1):\n",
        "        print(\"Starting fold {}\".format(i))\n",
        "        tr_idx, val_idx = cvlist[i]\n",
        "        print(tr_idx.shape, val_idx.shape)\n",
        "        src = (ImageList.from_df(train_df, path=ROOT, folder=\"Train Images\").split_by_idxs(tr_idx, val_idx)\n",
        "                                                            .label_from_df())\n",
        "        data = ImageDataBunch.create_from_ll(src, ds_tfms=tfms1, size=400, bs=8, resize_method=3).normalize(imagenet_stats)\n",
        "        data.add_test(ImageList.from_df(test_df, path=ROOT, folder=\"Test Images\"))\n",
        "        learn = cnn_learner(data, models.densenet169, metrics=accuracy, ps=0.5)\n",
        "        # learn.model[0].load_state_dict(torch.load(\"../input/save-body-weights-marvel/bestmodel_body.path\"))\n",
        "        cb = SaveBestModel(learn, name=\"bestmodel_{}\".format(i))\n",
        "        #learn.fit(1, callbacks=cb)\n",
        "        learn.fit_one_cycle(4)\n",
        "        learn.unfreeze()\n",
        "        #learn.fit_one_cycle(10, max_lr=1e-4, callbacks=[cb])\n",
        "        #learn.fit_one_cycle(10, max_lr=5e-5, callbacks=[cb])\n",
        "        #learn.fit_one_cycle(10, max_lr=1e-5, callbacks=[cb])\n",
        "        #learn.fit_one_cycle(10, max_lr=5e-6, callbacks=[cb])\n",
        "        learn.fit_one_cycle(5, max_lr=1e-6, callbacks=[cb])\n",
        "        learn.load(\"bestmodel_{}\".format(i))\n",
        "        val_preds, y = learn.TTA(ds_type=DatasetType.Valid)\n",
        "        val_preds = np.exp(val_preds.numpy())\n",
        "        print(\"F1 score for this fold \",f1_score(y.numpy(), np.argmax(val_preds,axis=1), average='weighted'))\n",
        "        test_preds = np.exp(learn.TTA(ds_type=DatasetType.Test)[0].numpy())\n",
        "        test_preds_all.append(test_preds)\n",
        "        val_preds_all.append(val_preds)\n",
        "        fname = \"bestmodel_{}.pth\".format(i)\n",
        "        src = str(Path(ROOT) / \"models\" / fname)\n",
        "        shutil.copy(src, fname)\n",
        "    test_preds_all = np.mean(test_preds_all, axis=0)\n",
        "    val_preds_all = np.concatenate(val_preds_all, axis=0)\n",
        "\n",
        "    np.save(\"test_preds.npy\", test_preds_all)\n",
        "    np.save(\"val_preds.npy\", val_preds_all)\n",
        "    sub = test_df[[\"Image_File\"]]\n",
        "    sub[\"Class\"] = np.argmax(test_preds_all, axis=1)\n",
        "    sub.to_csv(\"gamerr.csv\", index=False)"
      ],
      "execution_count": 0,
      "outputs": []
    },
    {
      "cell_type": "code",
      "metadata": {
        "trusted": true,
        "id": "JITUbafwIajw",
        "colab_type": "code",
        "colab": {}
      },
      "source": [
        "from IPython.display import HTML\n",
        "def create_download_link(title = \"Download CSV file\", filename = \"gamerr.csv\"):  \n",
        "    html = '<a href={filename}>{title}</a>'\n",
        "    html = html.format(title=title,filename=filename)\n",
        "    return HTML(html)\n"
      ],
      "execution_count": 0,
      "outputs": []
    },
    {
      "cell_type": "code",
      "metadata": {
        "trusted": true,
        "id": "7_hRbbmsIajy",
        "colab_type": "code",
        "colab": {},
        "outputId": "d4c321a2-151c-4dd3-8ff5-4f2aaf7dd664"
      },
      "source": [
        "create_download_link(filename = 'gamerr.csv')"
      ],
      "execution_count": 0,
      "outputs": [
        {
          "output_type": "execute_result",
          "data": {
            "text/plain": [
              "<IPython.core.display.HTML object>"
            ],
            "text/html": [
              "<a href=gamerr.csv>Download CSV file</a>"
            ]
          },
          "metadata": {
            "tags": []
          },
          "execution_count": 35
        }
      ]
    }
  ]
}